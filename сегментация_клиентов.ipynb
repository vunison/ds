{
  "nbformat": 4,
  "nbformat_minor": 0,
  "metadata": {
    "colab": {
      "name": "сегментация клиентов.ipynb",
      "provenance": [],
      "collapsed_sections": [],
      "authorship_tag": "ABX9TyPv8DtYV9PrUsYx5tf/ZQu+",
      "include_colab_link": true
    },
    "kernelspec": {
      "name": "python3",
      "display_name": "Python 3"
    },
    "language_info": {
      "name": "python"
    }
  },
  "cells": [
    {
      "cell_type": "markdown",
      "metadata": {
        "id": "view-in-github",
        "colab_type": "text"
      },
      "source": [
        "<a href=\"https://colab.research.google.com/github/vunison/ds/blob/main/%D1%81%D0%B5%D0%B3%D0%BC%D0%B5%D0%BD%D1%82%D0%B0%D1%86%D0%B8%D1%8F_%D0%BA%D0%BB%D0%B8%D0%B5%D0%BD%D1%82%D0%BE%D0%B2.ipynb\" target=\"_parent\"><img src=\"https://colab.research.google.com/assets/colab-badge.svg\" alt=\"Open In Colab\"/></a>"
      ]
    },
    {
      "cell_type": "markdown",
      "source": [
        "Нужно распределить имеющихся клиенетов по сегментам, приблизительно:\n",
        "\n",
        "УК  \n",
        "школы  \n",
        "гостиницы  \n",
        "детские сады  \n",
        "администрации  \n",
        "базы отдыха  \n",
        "строительные компании  \n",
        "благотворительные фонды  \n",
        "больницы  \n",
        "ИП+юр.лица  \n",
        "физ.лица  \n",
        "\n",
        "\n"
      ],
      "metadata": {
        "id": "kqiEJHiD1G0Q"
      }
    },
    {
      "cell_type": "code",
      "source": [
        "!pip install catboost\n",
        "!pip install pymorphy2"
      ],
      "metadata": {
        "colab": {
          "base_uri": "https://localhost:8080/"
        },
        "id": "LBIO2GFax-zH",
        "outputId": "5b4c3548-b1ba-436b-e4f8-17292dc82262"
      },
      "execution_count": null,
      "outputs": [
        {
          "output_type": "stream",
          "name": "stdout",
          "text": [
            "Looking in indexes: https://pypi.org/simple, https://us-python.pkg.dev/colab-wheels/public/simple/\n",
            "Requirement already satisfied: catboost in /usr/local/lib/python3.7/dist-packages (1.0.6)\n",
            "Requirement already satisfied: pandas>=0.24.0 in /usr/local/lib/python3.7/dist-packages (from catboost) (1.3.5)\n",
            "Requirement already satisfied: six in /usr/local/lib/python3.7/dist-packages (from catboost) (1.15.0)\n",
            "Requirement already satisfied: plotly in /usr/local/lib/python3.7/dist-packages (from catboost) (5.5.0)\n",
            "Requirement already satisfied: graphviz in /usr/local/lib/python3.7/dist-packages (from catboost) (0.10.1)\n",
            "Requirement already satisfied: numpy>=1.16.0 in /usr/local/lib/python3.7/dist-packages (from catboost) (1.21.6)\n",
            "Requirement already satisfied: scipy in /usr/local/lib/python3.7/dist-packages (from catboost) (1.7.3)\n",
            "Requirement already satisfied: matplotlib in /usr/local/lib/python3.7/dist-packages (from catboost) (3.2.2)\n",
            "Requirement already satisfied: pytz>=2017.3 in /usr/local/lib/python3.7/dist-packages (from pandas>=0.24.0->catboost) (2022.1)\n",
            "Requirement already satisfied: python-dateutil>=2.7.3 in /usr/local/lib/python3.7/dist-packages (from pandas>=0.24.0->catboost) (2.8.2)\n",
            "Requirement already satisfied: pyparsing!=2.0.4,!=2.1.2,!=2.1.6,>=2.0.1 in /usr/local/lib/python3.7/dist-packages (from matplotlib->catboost) (3.0.9)\n",
            "Requirement already satisfied: kiwisolver>=1.0.1 in /usr/local/lib/python3.7/dist-packages (from matplotlib->catboost) (1.4.4)\n",
            "Requirement already satisfied: cycler>=0.10 in /usr/local/lib/python3.7/dist-packages (from matplotlib->catboost) (0.11.0)\n",
            "Requirement already satisfied: typing-extensions in /usr/local/lib/python3.7/dist-packages (from kiwisolver>=1.0.1->matplotlib->catboost) (4.1.1)\n",
            "Requirement already satisfied: tenacity>=6.2.0 in /usr/local/lib/python3.7/dist-packages (from plotly->catboost) (8.0.1)\n",
            "Looking in indexes: https://pypi.org/simple, https://us-python.pkg.dev/colab-wheels/public/simple/\n",
            "Requirement already satisfied: pymorphy2 in /usr/local/lib/python3.7/dist-packages (0.9.1)\n",
            "Requirement already satisfied: pymorphy2-dicts-ru<3.0,>=2.4 in /usr/local/lib/python3.7/dist-packages (from pymorphy2) (2.4.417127.4579844)\n",
            "Requirement already satisfied: dawg-python>=0.7.1 in /usr/local/lib/python3.7/dist-packages (from pymorphy2) (0.7.2)\n",
            "Requirement already satisfied: docopt>=0.6 in /usr/local/lib/python3.7/dist-packages (from pymorphy2) (0.6.2)\n"
          ]
        }
      ]
    },
    {
      "cell_type": "code",
      "execution_count": null,
      "metadata": {
        "colab": {
          "base_uri": "https://localhost:8080/"
        },
        "id": "pLeK5IamxSIV",
        "outputId": "dd33d891-f4c2-4873-dec7-002b147e8ee1"
      },
      "outputs": [
        {
          "output_type": "stream",
          "name": "stderr",
          "text": [
            "[nltk_data] Downloading package stopwords to /root/nltk_data...\n",
            "[nltk_data]   Package stopwords is already up-to-date!\n"
          ]
        }
      ],
      "source": [
        "import joblib\n",
        "from joblib import load\n",
        "\n",
        "import pandas as pd\n",
        "from pymorphy2 import MorphAnalyzer\n",
        "import re\n",
        "import nltk\n",
        "nltk.download('stopwords')\n",
        "from nltk.corpus import stopwords\n",
        "\n",
        "\n",
        "from sklearn.feature_extraction.text import TfidfVectorizer\n",
        "from catboost import CatBoostClassifier\n",
        "\n",
        "from tqdm import tqdm"
      ]
    },
    {
      "cell_type": "code",
      "source": [
        "stop_words = set(stopwords.words('russian'))"
      ],
      "metadata": {
        "id": "eyJPl6knFRBc"
      },
      "execution_count": null,
      "outputs": []
    },
    {
      "cell_type": "code",
      "source": [
        "model_fiz = joblib.load('model_fiz.joblib')\n",
        "model_ur = joblib.load('model_ur.joblib')\n",
        "\n",
        "tvidf_v_fiz = joblib.load('tvidf_v_fiz.joblib')\n",
        "tvidf_v_ur =   joblib.load('tvidf_v_ur.joblib')"
      ],
      "metadata": {
        "id": "iMdnHtCTxdIJ"
      },
      "execution_count": null,
      "outputs": []
    },
    {
      "cell_type": "markdown",
      "source": [
        "# Предобработка"
      ],
      "metadata": {
        "id": "-fQZGc0O1cyk"
      }
    },
    {
      "cell_type": "code",
      "source": [
        "data = pd.read_csv('/content/s-o-t-04-08-2022.csv').drop(['Phone 3 - Value','Subscribed'],axis=1)"
      ],
      "metadata": {
        "id": "u7XrFjEOxvSe"
      },
      "execution_count": null,
      "outputs": []
    },
    {
      "cell_type": "code",
      "source": [
        "data.columns = ['order', 'name', 'organization',\n",
        "       'address', 'group membership', 'e-mail',\n",
        "       'phone1', 'phone2']"
      ],
      "metadata": {
        "id": "1TI2tm_pyVKI"
      },
      "execution_count": null,
      "outputs": []
    },
    {
      "cell_type": "code",
      "source": [
        "def fast_clean_sub(text):\n",
        "  name = re.sub('[0-9*&?]','',text)\n",
        "  return name\n",
        "data['name'] =  data['name'].astype(str)\n",
        "data['name'] =  data['name'].apply(fast_clean_sub)\n",
        "\n",
        "data['organization'].loc[data[data['organization'].isna() == True].index] = data['name'].loc[data[data['organization'].isna() == True].index]\n",
        "data['organization'].loc[data[data['organization'] == 'Название компании'].index] = data['name'].loc[data[data['organization'].isna() == True].index]"
      ],
      "metadata": {
        "colab": {
          "base_uri": "https://localhost:8080/"
        },
        "id": "jjL1LPcazg1t",
        "outputId": "3281efda-cf92-4cf5-fad7-36dc30c11947"
      },
      "execution_count": null,
      "outputs": [
        {
          "output_type": "stream",
          "name": "stderr",
          "text": [
            "/usr/local/lib/python3.7/dist-packages/pandas/core/indexing.py:1732: SettingWithCopyWarning: \n",
            "A value is trying to be set on a copy of a slice from a DataFrame\n",
            "\n",
            "See the caveats in the documentation: https://pandas.pydata.org/pandas-docs/stable/user_guide/indexing.html#returning-a-view-versus-a-copy\n",
            "  self._setitem_single_block(indexer, value, name)\n"
          ]
        }
      ]
    },
    {
      "cell_type": "code",
      "source": [
        "data = data.dropna(subset=['organization'])"
      ],
      "metadata": {
        "id": "wQHd9RL6z5Fs"
      },
      "execution_count": null,
      "outputs": []
    },
    {
      "cell_type": "code",
      "source": [
        "data['organization'] = data['organization'].astype(str)\n",
        "data['organization'] = data['organization'].str.lower().str.replace('-',' ', regex=True)\n",
        "data['organization'] = data['organization'].str.replace('\\\\','', regex=True)"
      ],
      "metadata": {
        "id": "J1B1u1dJyV1R",
        "colab": {
          "base_uri": "https://localhost:8080/"
        },
        "outputId": "7ef4a458-0020-4013-b48d-3224c5fe1834"
      },
      "execution_count": null,
      "outputs": [
        {
          "output_type": "stream",
          "name": "stderr",
          "text": [
            "/usr/local/lib/python3.7/dist-packages/ipykernel_launcher.py:1: SettingWithCopyWarning: \n",
            "A value is trying to be set on a copy of a slice from a DataFrame.\n",
            "Try using .loc[row_indexer,col_indexer] = value instead\n",
            "\n",
            "See the caveats in the documentation: https://pandas.pydata.org/pandas-docs/stable/user_guide/indexing.html#returning-a-view-versus-a-copy\n",
            "  \"\"\"Entry point for launching an IPython kernel.\n",
            "/usr/local/lib/python3.7/dist-packages/ipykernel_launcher.py:2: SettingWithCopyWarning: \n",
            "A value is trying to be set on a copy of a slice from a DataFrame.\n",
            "Try using .loc[row_indexer,col_indexer] = value instead\n",
            "\n",
            "See the caveats in the documentation: https://pandas.pydata.org/pandas-docs/stable/user_guide/indexing.html#returning-a-view-versus-a-copy\n",
            "  \n",
            "/usr/local/lib/python3.7/dist-packages/ipykernel_launcher.py:3: SettingWithCopyWarning: \n",
            "A value is trying to be set on a copy of a slice from a DataFrame.\n",
            "Try using .loc[row_indexer,col_indexer] = value instead\n",
            "\n",
            "See the caveats in the documentation: https://pandas.pydata.org/pandas-docs/stable/user_guide/indexing.html#returning-a-view-versus-a-copy\n",
            "  This is separate from the ipykernel package so we can avoid doing imports until\n"
          ]
        }
      ]
    },
    {
      "cell_type": "markdown",
      "source": [
        "# Лемматизация"
      ],
      "metadata": {
        "id": "eWDlGT7m0yPg"
      }
    },
    {
      "cell_type": "code",
      "source": [
        "m = MorphAnalyzer()\n",
        "data['lemm_organization'] = [' '.join([m.parse(word)[0].normal_form for word in x.split()]) for x in tqdm(data['organization'])]"
      ],
      "metadata": {
        "colab": {
          "base_uri": "https://localhost:8080/"
        },
        "id": "OlZsrV4EzBcL",
        "outputId": "1a7d9852-d6d5-40b2-fb5c-652f64a2db11"
      },
      "execution_count": null,
      "outputs": [
        {
          "output_type": "stream",
          "name": "stderr",
          "text": [
            "100%|██████████| 9315/9315 [00:13<00:00, 669.84it/s]\n"
          ]
        }
      ]
    },
    {
      "cell_type": "markdown",
      "source": [
        "# Векторизация"
      ],
      "metadata": {
        "id": "Eq1JjbsM2NcY"
      }
    },
    {
      "cell_type": "code",
      "source": [
        "vectorized_lemmas_fiz = tvidf_v_fiz.transform(data['lemm_organization'])"
      ],
      "metadata": {
        "id": "ehjqm8nB2QLm"
      },
      "execution_count": null,
      "outputs": []
    },
    {
      "cell_type": "markdown",
      "source": [
        "# Присвоение категорий - ФИЗ/ЮР"
      ],
      "metadata": {
        "id": "bEEbKAJ21olp"
      }
    },
    {
      "cell_type": "code",
      "source": [
        "data['category_1'] = model_fiz.predict(vectorized_lemmas_fiz)"
      ],
      "metadata": {
        "id": "UuV-4y390rn9"
      },
      "execution_count": null,
      "outputs": []
    },
    {
      "cell_type": "code",
      "source": [
        "other = ['тендер','некрасов','кп','тест','клиент','неизвестно','nan','шк','шемякина','dna','шемякин']\n",
        "\n",
        "other_idx = []\n",
        "for idx in data.index:\n",
        "  for word in other:\n",
        "    if word in (data['lemm_organization'][idx]).split():\n",
        "      other_idx.append(idx)\n",
        "data['category_1'][other_idx] = 'другое'"
      ],
      "metadata": {
        "colab": {
          "base_uri": "https://localhost:8080/"
        },
        "id": "79fE-cos7_2M",
        "outputId": "a2d9097f-27fb-41d8-f0d6-c160f8ae552f"
      },
      "execution_count": null,
      "outputs": [
        {
          "output_type": "stream",
          "name": "stderr",
          "text": [
            "/usr/local/lib/python3.7/dist-packages/ipykernel_launcher.py:8: SettingWithCopyWarning: \n",
            "A value is trying to be set on a copy of a slice from a DataFrame\n",
            "\n",
            "See the caveats in the documentation: https://pandas.pydata.org/pandas-docs/stable/user_guide/indexing.html#returning-a-view-versus-a-copy\n",
            "  \n"
          ]
        }
      ]
    },
    {
      "cell_type": "markdown",
      "source": [
        "# Присвоение категорий - ЮР ЛИЦ"
      ],
      "metadata": {
        "id": "vx67cb15V2JS"
      }
    },
    {
      "cell_type": "code",
      "source": [
        "data_ur = data[data['category_1'] == 'юр лица']\n",
        "vectorized_lemmas_ur = tvidf_v_ur.transform(data_ur['lemm_organization'])\n",
        "data_ur['category_2'] = model_ur.predict(vectorized_lemmas_ur)"
      ],
      "metadata": {
        "colab": {
          "base_uri": "https://localhost:8080/"
        },
        "id": "c0Go8h0F8-cs",
        "outputId": "5bf2c2bb-be87-47dc-9bb7-06529e99e566"
      },
      "execution_count": null,
      "outputs": [
        {
          "output_type": "stream",
          "name": "stderr",
          "text": [
            "/usr/local/lib/python3.7/dist-packages/ipykernel_launcher.py:3: SettingWithCopyWarning: \n",
            "A value is trying to be set on a copy of a slice from a DataFrame.\n",
            "Try using .loc[row_indexer,col_indexer] = value instead\n",
            "\n",
            "See the caveats in the documentation: https://pandas.pydata.org/pandas-docs/stable/user_guide/indexing.html#returning-a-view-versus-a-copy\n",
            "  This is separate from the ipykernel package so we can avoid doing imports until\n"
          ]
        }
      ]
    },
    {
      "cell_type": "code",
      "source": [
        "data_full = data.join(data_ur[['category_2']], how='left').reset_index(drop=True)"
      ],
      "metadata": {
        "id": "r6Frgx0oozYe"
      },
      "execution_count": null,
      "outputs": []
    },
    {
      "cell_type": "markdown",
      "source": [
        "## Чистим телефон от лишнего"
      ],
      "metadata": {
        "id": "-LBgdFLx9Xsi"
      }
    },
    {
      "cell_type": "code",
      "source": [
        "data_full['phone1'] = data_full['phone1'].astype(str) "
      ],
      "metadata": {
        "id": "Mi1AJlFo3nO0"
      },
      "execution_count": null,
      "outputs": []
    },
    {
      "cell_type": "code",
      "source": [
        "def clean_phone(phone):\n",
        "  return re.sub('[+() -]','',phone)\n",
        "data_full['phone1'] = data_full['phone1'].apply(clean_phone)"
      ],
      "metadata": {
        "id": "VR6Vr0D04qGK"
      },
      "execution_count": null,
      "outputs": []
    },
    {
      "cell_type": "markdown",
      "source": [
        "Процент дубликатов в телефоне"
      ],
      "metadata": {
        "id": "VRpPZYJZ-bn-"
      }
    },
    {
      "cell_type": "code",
      "source": [
        "data_full['phone1'].duplicated().sum()/len(data_full)"
      ],
      "metadata": {
        "id": "6BQG3OoT5kEG",
        "colab": {
          "base_uri": "https://localhost:8080/"
        },
        "outputId": "be04ee27-736f-4d77-f2b4-2d27556af063"
      },
      "execution_count": null,
      "outputs": [
        {
          "output_type": "execute_result",
          "data": {
            "text/plain": [
              "0.27471819645732687"
            ]
          },
          "metadata": {},
          "execution_count": 18
        }
      ]
    },
    {
      "cell_type": "code",
      "source": [
        "data_full = data_full[data_full['category_1']!='другое']"
      ],
      "metadata": {
        "id": "UP_8aAzm9P-M"
      },
      "execution_count": null,
      "outputs": []
    },
    {
      "cell_type": "code",
      "source": [
        "data_full['phone1'].value_counts().head(10)"
      ],
      "metadata": {
        "colab": {
          "base_uri": "https://localhost:8080/"
        },
        "id": "lK30XhA1AFv5",
        "outputId": "d0051a17-d148-4726-9f83-539a3eef298d"
      },
      "execution_count": null,
      "outputs": [
        {
          "output_type": "execute_result",
          "data": {
            "text/plain": [
              "70000000000    901\n",
              "79827907667     40\n",
              "74164350956     14\n",
              "79143905731     12\n",
              "71111111111     11\n",
              "79999999999     10\n",
              "79118700597     10\n",
              "74739653792     10\n",
              "77017446973      9\n",
              "79214885258      9\n",
              "Name: phone1, dtype: int64"
            ]
          },
          "metadata": {},
          "execution_count": 28
        }
      ]
    },
    {
      "cell_type": "code",
      "source": [
        ""
      ],
      "metadata": {
        "id": "E2TsQNZKemM1"
      },
      "execution_count": null,
      "outputs": []
    }
  ]
}